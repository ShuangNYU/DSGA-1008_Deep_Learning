{
 "cells": [
  {
   "cell_type": "markdown",
   "metadata": {
    "id": "JccQsl2OtAOi"
   },
   "source": [
    "### Imports "
   ]
  },
  {
   "cell_type": "code",
   "execution_count": null,
   "metadata": {
    "colab": {
     "base_uri": "https://localhost:8080/",
     "height": 34
    },
    "executionInfo": {
     "elapsed": 753,
     "status": "ok",
     "timestamp": 1601578726958,
     "user": {
      "displayName": "Aishwarya santosh Kamath",
      "photoUrl": "",
      "userId": "16213525037688089883"
     },
     "user_tz": 240
    },
    "id": "5elHgLPSoiT7",
    "outputId": "2729dc56-1283-42af-f866-0f9545e0000e"
   },
   "outputs": [
    {
     "data": {
      "text/plain": [
       "<torch._C.Generator at 0x7fa934a18630>"
      ]
     },
     "execution_count": 3,
     "metadata": {
      "tags": []
     },
     "output_type": "execute_result"
    }
   ],
   "source": [
    "import torch \n",
    "import torchvision\n",
    "import torch.nn as nn \n",
    "from IPython.display import Image \n",
    "from torchvision import transforms\n",
    "import matplotlib.pyplot as plt\n",
    "import random\n",
    "from torch.utils.data import DataLoader\n",
    "from tqdm.auto import tqdm\n",
    "device = torch.device(\"cuda\" if torch.cuda.is_available() else \"cpu\")\n",
    "seed = 12345\n",
    "random.seed(seed)\n",
    "torch.manual_seed(seed)"
   ]
  },
  {
   "cell_type": "markdown",
   "metadata": {
    "id": "y8Aj_LrAhwRP"
   },
   "source": [
    "#### Mount your google drive so you can save model checkpoints, and report your test results on the final best model after hyperparameter tuning"
   ]
  },
  {
   "cell_type": "code",
   "execution_count": null,
   "metadata": {
    "colab": {
     "base_uri": "https://localhost:8080/",
     "height": 34
    },
    "executionInfo": {
     "elapsed": 21390,
     "status": "ok",
     "timestamp": 1601578750208,
     "user": {
      "displayName": "Aishwarya santosh Kamath",
      "photoUrl": "",
      "userId": "16213525037688089883"
     },
     "user_tz": 240
    },
    "id": "utx0ySGqQbha",
    "outputId": "78511056-3ddc-46c7-df21-164bc8a495de"
   },
   "outputs": [
    {
     "name": "stdout",
     "output_type": "stream",
     "text": [
      "Mounted at /content/drive\n"
     ]
    }
   ],
   "source": [
    "from google.colab import drive\n",
    "drive.mount('/content/drive')"
   ]
  },
  {
   "cell_type": "markdown",
   "metadata": {
    "id": "zqzOqBsvs9kA"
   },
   "source": [
    "### Data loading "
   ]
  },
  {
   "cell_type": "markdown",
   "metadata": {
    "id": "3-3MVXNOhdCc"
   },
   "source": [
    "##### Run the following cells to load the dataset. Setting download=True will download it for you."
   ]
  },
  {
   "cell_type": "code",
   "execution_count": null,
   "metadata": {
    "id": "8rb7Ng7_VcwL"
   },
   "outputs": [],
   "source": [
    "cifar10_train = torchvision.datasets.CIFAR10(root='./cifar10', \n",
    "                                             train=True, \n",
    "                                             transform=None, \n",
    "                                             target_transform=None,\n",
    "                                             download=True)\n",
    "cifar10_test = torchvision.datasets.CIFAR10(root='./cifar10', \n",
    "                                             train=False, \n",
    "                                             transform=None, \n",
    "                                             target_transform=None,\n",
    "                                             download=True)\n",
    "\n",
    "# Divides the dataset into train and val so that we can use the val to choose our hyperparameters\n",
    "train_dataset, val_dataset = torch.utils.data.random_split(cifar10_train, [40000, 10000], \n",
    "                                                           generator=torch.Generator().manual_seed(12345))\n",
    "test_dataset = cifar10_test"
   ]
  },
  {
   "cell_type": "code",
   "execution_count": null,
   "metadata": {
    "id": "J_NzhpK8KvQC"
   },
   "outputs": [],
   "source": [
    "# Helper code to support adding different transforms on the dataset lazily after downloading the dataset\n",
    "# From https://discuss.pytorch.org/t/apply-different-transform-data-augmentation-to-train-and-validation/63580/5\n",
    "class MapDataset(torch.utils.data.Dataset):\n",
    "    \"\"\"\n",
    "    Given a dataset, creates a dataset which applies a mapping function\n",
    "    to its items (lazily, only when an item is called).\n",
    "\n",
    "    Note that data is not cloned/copied from the initial dataset.\n",
    "    \"\"\"\n",
    "\n",
    "    def __init__(self, dataset, map_fn):\n",
    "        self.dataset = dataset\n",
    "        self.map = map_fn\n",
    "\n",
    "    def __getitem__(self, index):\n",
    "        if self.map:     \n",
    "            x = self.map(self.dataset[index][0]) \n",
    "        else:     \n",
    "            x = self.dataset[index][0]  \n",
    "        y = self.dataset[index][1]         \n",
    "        return x, y\n",
    "\n",
    "    def __len__(self):\n",
    "        return len(self.dataset)"
   ]
  },
  {
   "cell_type": "markdown",
   "metadata": {
    "id": "MMbXzcUiKc7e"
   },
   "source": [
    "#### Standard transforms to apply on images - Convert to tensors and normalize with mean and std. These are the basic transforms that you will always apply. The mean and std have been pre calculated on the training set. "
   ]
  },
  {
   "cell_type": "code",
   "execution_count": null,
   "metadata": {
    "id": "LWEKU9xQKbkW"
   },
   "outputs": [],
   "source": [
    "# Notice that we apply the same mean and std normalization calculated on train, to both the train and test datasets.\n",
    "test_transform = transforms.Compose([\n",
    "                                     transforms.ToTensor(),\n",
    "                                     transforms.Normalize(\n",
    "                                         [0.4373, 0.4434, 0.4725],\n",
    "                                         [0.1201, 0.1231, 0.1052])\n",
    "                                     ])\n",
    "\n",
    "train_transform = transforms.Compose([\n",
    "                                      transforms.ToTensor(),\n",
    "                                      transforms.Normalize(\n",
    "                                          [0.4373, 0.4434, 0.4725],\n",
    "                                          [0.1201, 0.1231, 0.1052])\n",
    "                                      ])\n"
   ]
  },
  {
   "cell_type": "code",
   "execution_count": null,
   "metadata": {
    "id": "TrDIxTs2JwbO"
   },
   "outputs": [],
   "source": [
    "train_dataset_w_transform  = MapDataset(train_dataset, train_transform)\n",
    "val_dataset_w_transform = MapDataset(val_dataset, test_transform)\n",
    "test_dataset_w_transform = MapDataset(test_dataset, test_transform)"
   ]
  },
  {
   "cell_type": "code",
   "execution_count": null,
   "metadata": {
    "id": "4LcExDS1tyjI"
   },
   "outputs": [],
   "source": [
    "bs = 128\n",
    "torch.backends.cudnn.benchmark = True\n",
    "train_loader = DataLoader(train_dataset_w_transform, batch_size=bs, shuffle=True, drop_last=False,num_workers=10, pin_memory=True)\n",
    "val_loader = DataLoader(val_dataset_w_transform, batch_size=bs, shuffle=False, drop_last=False,num_workers=10, pin_memory=True)\n",
    "test_loader = DataLoader(test_dataset, batch_size=bs, shuffle=False, drop_last=False,num_workers=10, pin_memory=True)"
   ]
  },
  {
   "cell_type": "markdown",
   "metadata": {
    "id": "pXLFsEihoMTn"
   },
   "source": [
    "### Q 2.1 Training loop"
   ]
  },
  {
   "cell_type": "markdown",
   "metadata": {
    "id": "ksECLwMqkgj_"
   },
   "source": [
    "In this question, fill in the missing parts to build a generic training loop that returns the train and validation losses and accuracies. The #TODOs will guide you through the key points and you should fill some code for each #TODO. You might need to add some additional code for bookkeeping the losses and accuracies"
   ]
  },
  {
   "cell_type": "code",
   "execution_count": null,
   "metadata": {
    "id": "GnmWg9P9N5U_"
   },
   "outputs": [],
   "source": [
    "def train_loop(model, criterion, optimizer,  train_loader, val_loader):\n",
    "    \"\"\"\n",
    "    Generic training loop\n",
    "\n",
    "    Parameters\n",
    "    ----------\n",
    "    model : Object instance of your model class \n",
    "    criterion : Loss function \n",
    "    optimizer : Instance of optimizer class of your choice \n",
    "    train_loader : Training data loader \n",
    "    val_loader : Validation data loader\n",
    "\n",
    "    Returns\n",
    "    -------\n",
    "    train_losses : List with train loss on dataset per epoch\n",
    "    train_accuracies : List with train accuracy on dataset per epoch\n",
    "    val_losses : List with validation loss on dataset per epoch\n",
    "    val_accuracies : List with validation accuracy on dataset per epoch\n",
    "\n",
    "    \"\"\"\n",
    "    best_val = 0.0\n",
    "    train_losses = []\n",
    "    val_losses = []\n",
    "    train_accuracies = []\n",
    "    val_accuracies = []\n",
    "    max_patience = 5\n",
    "    patience_counter = 0\n",
    "\n",
    "    # Training\n",
    "    for t in tqdm(range(50)):\n",
    "\n",
    "        # TODO : Set the model to train mode        \n",
    "\n",
    "        # TODO: Loop over the training set \n",
    "\n",
    "            # TODO: Put the inputs and targets on the write device\n",
    "            \n",
    "            # TODO: Feed forward to get the logits\n",
    "\n",
    "            # TODO: Compute the loss and accuracy\n",
    "\n",
    "            # TODO: zero the gradients before running\n",
    "            # the backward pass.\n",
    "\n",
    "            # TODO: Backward pass to compute the gradient\n",
    "            # of loss w.r.t our learnable params. \n",
    "\n",
    "            # TODO: Update params\n",
    "            \n",
    "            # TODO: Keep track of accuracy and loss\n",
    "\n",
    "        \n",
    "        # TODO: Switch the model to eval mode\n",
    "        \n",
    "\n",
    "\n",
    "        with torch.no_grad():\n",
    "            # TODO: Loop over the validation set \n",
    "            \n",
    "                # TODO: Put the inputs and targets on the write device\n",
    "            \n",
    "                # TODO: Feed forward to get the logits\n",
    "\n",
    "                # TODO: Compute the loss and accuracy\n",
    "\n",
    "                # TODO: Keep track of accuracy and loss\n",
    "\n",
    "        if val_accuracies[-1] > best_val:\n",
    "          best_val = val_accuracies[-1]\n",
    "          patience_counter = 0\n",
    "\n",
    "          # TODO: Save best model, optimizer, epoch_number\n",
    "          \n",
    "        else:\n",
    "          patience_counter += 1    \n",
    "          if patience_counter > max_patience: \n",
    "            break\n",
    "\n",
    "        print(\"[EPOCH]: %i, [TRAIN LOSS]: %.6f, [TRAIN ACCURACY]: %.3f\" % (t, train_losses[-1], train_accuracies[-1]))\n",
    "        print(\"[EPOCH]: %i, [VAL LOSS]: %.6f, [VAL ACCURACY]: %.3f \\n\" % (t, val_losses[-1] ,val_accuracies[-1]))\n",
    "\n",
    "    return train_losses, train_accuracies, val_losses, val_accuracies"
   ]
  },
  {
   "cell_type": "markdown",
   "metadata": {
    "id": "0sdCTYUouY4o"
   },
   "source": [
    "### Q 2.2 Shallow convolutional network. "
   ]
  },
  {
   "cell_type": "code",
   "execution_count": null,
   "metadata": {
    "id": "FKqYI2qxp95J"
   },
   "outputs": [],
   "source": [
    "class View(nn.Module):\n",
    "    def __init__(self, shape):\n",
    "      super().__init__()\n",
    "      self.shape = shape\n",
    "\n",
    "    def forward(self, x):\n",
    "        return x.view(*self.shape)"
   ]
  },
  {
   "cell_type": "code",
   "execution_count": null,
   "metadata": {
    "id": "FDHE0lOgpF0W"
   },
   "outputs": [],
   "source": [
    "\n",
    "ShallowNet =  nn.Sequential(\n",
    "      nn.Conv2d(in_channels = 3, out_channels = 64, kernel_size=5, padding=2),\n",
    "      nn.ReLU(),\n",
    "      nn.MaxPool2d(kernel_size=2),\n",
    "      nn.Conv2d(in_channels = 64, out_channels = 128, kernel_size=3, padding=1),\n",
    "      nn.ReLU(),\n",
    "      nn.MaxPool2d(kernel_size=2),\n",
    "      nn.Conv2d(in_channels = 128, out_channels = 256, kernel_size=3, padding=1),\n",
    "      nn.ReLU(),\n",
    "      nn.MaxPool2d(kernel_size=8),\n",
    "      View((-1,256)),\n",
    "      nn.Linear(256, 10),\n",
    ")"
   ]
  },
  {
   "cell_type": "markdown",
   "metadata": {
    "id": "iV26KJLDrzhx"
   },
   "source": [
    "#### Write the object oriented version of ShallowNet"
   ]
  },
  {
   "cell_type": "code",
   "execution_count": null,
   "metadata": {
    "id": "H8YygdvnuqDM"
   },
   "outputs": [],
   "source": [
    "class ShallowConvnet(nn.Module):\n",
    "    def __init__(self, input_channels, num_classes):\n",
    "        \"\"\"\n",
    "\n",
    "        Parameters\n",
    "        ----------\n",
    "        input_channels : Number of input channels\n",
    "        num_classes : Number of classes for the final prediction \n",
    "        \"\"\"\n",
    "        \n",
    "        # TODO\n",
    "\n",
    "    def forward(self, x):\n",
    "        \"\"\"\n",
    "\n",
    "        Parameters\n",
    "        ----------\n",
    "        x\n",
    "\n",
    "        Returns\n",
    "        -------\n",
    "        output : Result after running through the model\n",
    "        \"\"\"\n",
    "        \n",
    "        # TODO\n",
    "\n",
    "        "
   ]
  },
  {
   "cell_type": "markdown",
   "metadata": {
    "id": "UjEH5jIhwnet"
   },
   "source": [
    "### Q2.3 Instantiate the model and run this using an SGD optimizer, with the appropriate loss function for classification\n",
    "\n",
    "Report the learning curves (training and validation accuracy vs number of epochs)"
   ]
  },
  {
   "cell_type": "code",
   "execution_count": null,
   "metadata": {
    "id": "_oG1E-YRu4Cj"
   },
   "outputs": [],
   "source": [
    "# TODO : Initialize the model and cast to correct device\n",
    "\n",
    "# TODO : Initialize the criterion\n",
    "\n",
    "# TODO : Initialize the SGD optimizer with lr 1e-3\n",
    "\n",
    "# TODO : Run the training loop using this model"
   ]
  },
  {
   "cell_type": "markdown",
   "metadata": {
    "id": "cLRvwxlJoFQO"
   },
   "source": [
    "### Q2.4 Simple convolution network - "
   ]
  },
  {
   "cell_type": "markdown",
   "metadata": {
    "id": "lSUz9ljRxRc5"
   },
   "source": [
    "Design a convolutional neural network with the following specification: \n",
    "For each convolution layer, use appropriate padding such that it maintains the resolution of the image. The resolution should be changing only when you introduce maxpooling layers. Each convolution layer should be followed by a relu non-linearity. The first two blocks containing 3 convolutional layers are each followed by a maxpooling layer that halves the resolution of the image. After the third block, use maxpooling to get a resolution of 1 X 1. Finally, apply a linear transformation to project to the number of classes. \n",
    "\n",
    "Structure of the convolution layers of the model:\n",
    "1. Number of input channels to the model = 3\n",
    "2. First convolution layer of kernel size 5 with filter size 64 and padding such that it maintains the resolution of the image.\n",
    "3. Followed by a block of 3 convolution layers of kernel size 3, filter size 64 and padding such that it maintains the resolution of the image.\n",
    "5. Followed by 3 convolution layers of kernel size 3, filter size 128 and padding such that it maintains the resolution of the image.\n",
    "6. Followed by 3 convolution layers of kernel size 3, filter size 256 and padding such that it maintains the resolution of the image. \n",
    "\n",
    "\n"
   ]
  },
  {
   "cell_type": "code",
   "execution_count": null,
   "metadata": {
    "id": "GfwKR3uNlsNc"
   },
   "outputs": [],
   "source": [
    "# Use the description of the structure of the model and the hints given below \n",
    "\n",
    "class SimpleConvnet(nn.Module):\n",
    "    def __init__(self, input_channels, num_classes):\n",
    "        super(SimpleConvnet, self).__init__()\n",
    "        # TODO\n",
    "\n",
    "    \n",
    "    def forward(self, x):\n",
    "       \n",
    "        # TODO \n",
    "\n",
    "        # HINT: first conv layer \n",
    "\n",
    "\n",
    "        # HINT: block of 3 conv \n",
    "\n",
    "\n",
    "        # HINT : block of 3 conv \n",
    "\n",
    "\n",
    "        # HINT: block of 3 conv \n",
    "\n",
    "\n",
    "        # HINT: projection \n",
    "\n",
    "        \n",
    "        return output\n",
    "        "
   ]
  },
  {
   "cell_type": "code",
   "execution_count": null,
   "metadata": {
    "id": "q_WKoU3ewH2B"
   },
   "outputs": [],
   "source": [
    "# TODO : Initialize the model and cast to correct device\n",
    "\n",
    "# TODO : Initialize the criterion \n",
    "\n",
    "# TODO : Initialize the optimizer \n",
    "\n",
    "# TODO : Run the training loop using this model"
   ]
  },
  {
   "cell_type": "markdown",
   "metadata": {
    "id": "mZRJhVst0BLv"
   },
   "source": [
    "### Q 2.5 Report results of training using SGD optimizer for both ShallowNet and SimpleConvnet. What do you observe?"
   ]
  },
  {
   "cell_type": "markdown",
   "metadata": {
    "id": "uv6ExxBvLL3Y"
   },
   "source": [
    "### Q 2.6 Add batch normalization"
   ]
  },
  {
   "cell_type": "markdown",
   "metadata": {
    "id": "S8IFrRqC0WwA"
   },
   "source": [
    "#### Q2.6 a After each relu layer, add a batch normalization layer to the network SimpleConvnet you created above"
   ]
  },
  {
   "cell_type": "code",
   "execution_count": null,
   "metadata": {
    "id": "U7nvtAeBoiUX"
   },
   "outputs": [],
   "source": [
    "class SimpleConvnet2(nn.Module):\n",
    "    def __init__(self, input_channels, num_classes):\n",
    "        super(SimpleConvnet2, self).__init__()\n",
    "        \n",
    "        # TODO\n",
    "    \n",
    "    def forward(self, x):\n",
    "       \n",
    "       # TODO\n",
    "        \n",
    "        return output\n",
    "        "
   ]
  },
  {
   "cell_type": "code",
   "execution_count": null,
   "metadata": {
    "id": "hgqQzKV10tz7"
   },
   "outputs": [],
   "source": [
    "# TODO : Initialize the model and cast to correct device\n",
    "\n",
    "# TODO : Initialize the criterion \n",
    "\n",
    "# TODO : Initialize the optimizer \n",
    "\n",
    "# TODO : Run the training loop using this model"
   ]
  },
  {
   "cell_type": "markdown",
   "metadata": {
    "id": "w5wqxHGa0vZe"
   },
   "source": [
    "#### Q2.6 b Plot the the training curves (training loss vs \\# epochs, training accuracy vs # epochs) using SGD (lr 1e-3) with and without batch normalization. Comment on the difference. "
   ]
  },
  {
   "cell_type": "markdown",
   "metadata": {
    "id": "ZW0227y408ej"
   },
   "source": [
    "#### Q2.6 c. Try running the same two networks with an Adam optimizer (lr 1e-4). Plot the the training curves (training loss vs \\# epochs, training accuracy vs # epochs) with and without batch normalization. Comment on the difference. "
   ]
  },
  {
   "cell_type": "markdown",
   "metadata": {
    "id": "XeVzHHciAt-W"
   },
   "source": [
    "#### Q2.6 d Once you choose an optimizer and see that it does train, make sure your model has enough capacity by overfitting on one batch of the data set. You should be able to get 100% train accuracy. \n"
   ]
  },
  {
   "cell_type": "markdown",
   "metadata": {
    "id": "ANkTYeTWn6Mv"
   },
   "source": [
    "### Q 2.7 Add residual connections"
   ]
  },
  {
   "cell_type": "markdown",
   "metadata": {
    "id": "A55lJPET13Q7"
   },
   "source": [
    "#### Residual connections help stabilise training and lead to faster convergence. In this question you will introduce residual connections into the SimpleConvnet2 model that you built above. \n",
    "\n",
    "We will add residual connections after each block of 3 convolutional layers. Lets consider the first block of three convolutional layers. The input to this block, the so called residual, is added to the output of the block before the final batch normalization layer of that block. \n",
    "\n",
    "\n",
    "IMP NOTE: You will notice that the number of filters of these two summands are not the same. For this, you will need to use a convolution layer on the residual component, which changes the number of filters while keeping the rest of the dimensions the same. This can be achieved with a careful selection of the input_channels, output_channels, kernel_size and padding parameters. "
   ]
  },
  {
   "cell_type": "code",
   "execution_count": null,
   "metadata": {
    "id": "rzxWZNrmUzFT"
   },
   "outputs": [],
   "source": [
    "class ResidualConvnet(nn.Module):\n",
    "    def __init__(self, input_channels, num_classes):\n",
    "        super(ResidualConvnet, self).__init__()\n",
    "        \n",
    "        # TODO\n",
    "    \n",
    "    def forward(self, x):\n",
    "        \n",
    "        # TODO \n",
    "        return output\n",
    "        "
   ]
  },
  {
   "cell_type": "code",
   "execution_count": null,
   "metadata": {
    "id": "Wn9OWZiceenh"
   },
   "outputs": [],
   "source": [
    "# TODO : Initialize the model and cast to correct device\n",
    "\n",
    "# TODO : Initialize the criterion \n",
    "\n",
    "# TODO : Initialize the optimizer \n",
    "\n",
    "# TODO : Run the training loop using this model"
   ]
  },
  {
   "cell_type": "markdown",
   "metadata": {
    "id": "NRrWJ63c4C0f"
   },
   "source": [
    "### Q 2.8 Plot the training curves with and without the residual connection. Comment on the difference. "
   ]
  },
  {
   "cell_type": "markdown",
   "metadata": {
    "id": "1QXPnxcrx-VU"
   },
   "source": [
    "### Q2.9 Reducing overfiting \n",
    "\n"
   ]
  },
  {
   "cell_type": "markdown",
   "metadata": {
    "id": "HISbvoBh8JTJ"
   },
   "source": [
    "In the previous questions, you might have observed that there is a large difference between the training and validation losses. This is a sign that the model is overfitting. One way to combat this is by adding random transformations to the input data to make your model more robust and prevent it from memorizing the input data. \n",
    "\n",
    "Torchvision provides several transforms that you can readily apply to your data. Experiment with adding a few transforms and report your results in terms of learning curves to see if the gap between the training and validation loss reduces and try to achieve better perfomance on the validation set. "
   ]
  },
  {
   "cell_type": "code",
   "execution_count": null,
   "metadata": {
    "id": "0cZRQd-VK7ev"
   },
   "outputs": [],
   "source": [
    "test_transform = transforms.Compose([\n",
    "                                     transforms.ToTensor(),\n",
    "                                     transforms.Normalize(\n",
    "                                         [0.4373, 0.4434, 0.4725],\n",
    "                                         [0.1201, 0.1231, 0.1052])\n",
    "                                     ])\n",
    "\n",
    "train_transform = transforms.Compose([\n",
    "                                      # TODO: Add more transforms here \n",
    "                                      transforms.ToTensor(),\n",
    "                                      transforms.Normalize(\n",
    "                                          [0.4373, 0.4434, 0.4725],\n",
    "                                          [0.1201, 0.1231, 0.1052])\n",
    "                                      ])\n"
   ]
  },
  {
   "cell_type": "code",
   "execution_count": null,
   "metadata": {
    "id": "brZrUl7mK7ez"
   },
   "outputs": [],
   "source": [
    "train_dataset_w_transform  = MapDataset(train_dataset, train_transform)\n",
    "val_dataset_w_transform = MapDataset(val_dataset, test_transform)\n",
    "test_dataset_w_transform = MapDataset(test_dataset, test_transform)"
   ]
  },
  {
   "cell_type": "code",
   "execution_count": null,
   "metadata": {
    "id": "kZp6DqwfK7e1"
   },
   "outputs": [],
   "source": [
    "bs = 128\n",
    "train_loader = DataLoader(train_dataset_w_transform, batch_size=bs, shuffle=True, drop_last=False)\n",
    "val_loader = DataLoader(val_dataset_w_transform, batch_size=bs, shuffle=False, drop_last=False)\n",
    "test_loader = DataLoader(test_dataset, batch_size=bs, shuffle=False, drop_last=False)"
   ]
  },
  {
   "cell_type": "markdown",
   "metadata": {
    "id": "xR_9tihT5Vmu"
   },
   "source": [
    "#### Use the residual network that you built above and use data augmentation to reduce the overfitting "
   ]
  },
  {
   "cell_type": "code",
   "execution_count": null,
   "metadata": {
    "id": "WxMLVdrUwh--"
   },
   "outputs": [],
   "source": [
    "# TODO : Initialize the model and cast to correct device\n",
    "\n",
    "# TODO : Initialize the criterion \n",
    "\n",
    "# TODO : Initialize the optimizer \n",
    "\n",
    "# TODO : Run the training loop using this model"
   ]
  },
  {
   "cell_type": "markdown",
   "metadata": {
    "id": "O2rhPXb4nRFA"
   },
   "source": [
    "### Q 2.10  Effect of learning rate decay "
   ]
  },
  {
   "cell_type": "markdown",
   "metadata": {
    "id": "VDqvgBeptLpD"
   },
   "source": [
    "#### Here you need to change the training loop to have one additional operation - add the scheduler step at the end of each epoch. Experiment with different learning rate schedulers provided by pytorch. Report results using atleast StepLR. "
   ]
  },
  {
   "cell_type": "code",
   "execution_count": null,
   "metadata": {
    "id": "DoDm84bvtbYK"
   },
   "outputs": [],
   "source": [
    "from torch.optim.lr_scheduler import StepLR"
   ]
  },
  {
   "cell_type": "code",
   "execution_count": null,
   "metadata": {
    "id": "nbGSCk4N57qX"
   },
   "outputs": [],
   "source": [
    "def train_loop2(model, criterion, optimizer, scheduler,  train_loader, val_loader):\n",
    "    \"\"\"\n",
    "    Generic training loop\n",
    "\n",
    "    Parameters\n",
    "    ----------\n",
    "    model : Object instance of your model class \n",
    "    criterion : Loss function \n",
    "    optimizer : Instance of optimizer class of your choice \n",
    "    scheduler : Instance of scheduler class of your choice \n",
    "    train_loader : Training data loader \n",
    "    val_loader : Validation data loader\n",
    "\n",
    "    Returns\n",
    "    -------\n",
    "    train_losses : List with train loss on dataset per epoch\n",
    "    train_accuracies : List with train accuracy on dataset per epoch\n",
    "    val_losses : List with validation loss on dataset per epoch\n",
    "    val_accuracies : List with validation accuracy on dataset per epoch\n",
    "\n",
    "    \"\"\"\n",
    "    best_val = 0.0\n",
    "    train_losses = []\n",
    "    val_losses = []\n",
    "    train_accuracies = []\n",
    "    val_accuracies = []\n",
    "    max_patience = 5\n",
    "    patience_counter = 0\n",
    "\n",
    "    # Training\n",
    "    for t in tqdm(range(50)):\n",
    "\n",
    "        # TODO : Set the model to train mode        \n",
    "\n",
    "        # TODO: Loop over the training set \n",
    "\n",
    "            # TODO: Put the inputs and targets on the write device\n",
    "            \n",
    "            # TODO: Feed forward to get the logits\n",
    "\n",
    "            # TODO: Compute the loss and accuracy\n",
    "\n",
    "            # TODO: zero the gradients before running\n",
    "            # the backward pass.\n",
    "\n",
    "            # TODO: Backward pass to compute the gradient\n",
    "            # of loss w.r.t our learnable params. \n",
    "\n",
    "            # TODO: Update params\n",
    "            \n",
    "            # TODO: Keep track of accuracy and loss\n",
    "\n",
    "        \n",
    "        # Switch the model to eval mode\n",
    "        # TODO\n",
    "\n",
    "\n",
    "        with torch.no_grad():\n",
    "            # TODO: Loop over the validation set \n",
    "            \n",
    "                # TODO: Put the inputs and targets on the write device\n",
    "            \n",
    "                # TODO: Feed forward to get the logits\n",
    "\n",
    "                # TODO: Compute the loss and accuracy\n",
    "\n",
    "                # TODO: Keep track of accuracy and loss\n",
    "\n",
    "        if val_accuracies[-1] > best_val:\n",
    "          best_val = val_accuracies[-1]\n",
    "          patience_counter = 0\n",
    "\n",
    "          # TODO: Save best model, optimizer, epoch_number\n",
    "          \n",
    "        else:\n",
    "          patience_counter += 1    \n",
    "          \n",
    "          if patience_counter > max_patience: \n",
    "            break\n",
    "\n",
    "        print(\"[EPOCH]: %i, [TRAIN LOSS]: %.6f, [TRAIN ACCURACY]: %.3f\" % (t, train_losses[-1], train_accuracies[-1]))\n",
    "        print(\"[EPOCH]: %i, [VAL LOSS]: %.6f, [VAL ACCURACY]: %.3f \\n\" % (t, val_losses[-1] ,val_accuracies[-1]))\n",
    "\n",
    "        # TODO : scheduler step\n",
    "\n",
    "    return train_losses, train_accuracies, val_losses, val_accuracies"
   ]
  },
  {
   "cell_type": "code",
   "execution_count": null,
   "metadata": {
    "id": "bK1P1aU0sbJn"
   },
   "outputs": [],
   "source": [
    "# TODO : Initialize the model and cast to correct device\n",
    "\n",
    "# TODO : Initialize the criterion \n",
    "\n",
    "# TODO : Initialize the optimizer \n",
    "\n",
    "# TODO : Initialize the \n",
    "\n",
    "# TODO : Run the training loop using this model"
   ]
  },
  {
   "cell_type": "markdown",
   "metadata": {
    "id": "cG8bhd5V97iJ"
   },
   "source": [
    "### Q2.11 Hyper parameter tuning \n"
   ]
  },
  {
   "cell_type": "markdown",
   "metadata": {
    "id": "G05PHYHJ-DF2"
   },
   "source": [
    "#### Experiment with a range of learning rates and optimizers, as well as the parameter in the learning rate scheduler for StepLR. Report the following plots: \n",
    "\n",
    "1. Learning curves (training and validation loss for 5 different learning rate with SGD optimizer)\n",
    "2. Learning curves (training and validation loss for 5 different learning rate with Adam optimizer)\n",
    "3. Learning curves (training and validation loss for 5 different gamma parameter for the StepLR)\n",
    "\n",
    "\n",
    "\n"
   ]
  },
  {
   "cell_type": "markdown",
   "metadata": {
    "id": "JiLexWP36qp6"
   },
   "source": [
    "### Q2.12 Load the model that gave you best validation accuracy and report results on the test set. "
   ]
  },
  {
   "cell_type": "code",
   "execution_count": null,
   "metadata": {
    "id": "Hz-m4xZU_nV8"
   },
   "outputs": [],
   "source": []
  }
 ],
 "metadata": {
  "accelerator": "GPU",
  "colab": {
   "collapsed_sections": [],
   "name": "HW2Q2",
   "provenance": [
    {
     "file_id": "1wtutuUfYTqEb4AH99o5x4EM66tbEc55G",
     "timestamp": 1601581348519
    }
   ],
   "toc_visible": true
  },
  "kernelspec": {
   "display_name": "Python 3",
   "language": "python",
   "name": "python3"
  },
  "language_info": {
   "codemirror_mode": {
    "name": "ipython",
    "version": 3
   },
   "file_extension": ".py",
   "mimetype": "text/x-python",
   "name": "python",
   "nbconvert_exporter": "python",
   "pygments_lexer": "ipython3",
   "version": "3.8.5"
  }
 },
 "nbformat": 4,
 "nbformat_minor": 1
}
